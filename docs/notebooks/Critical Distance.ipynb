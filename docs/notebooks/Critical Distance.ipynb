{
 "cells": [
  {
   "cell_type": "code",
   "execution_count": 1,
   "metadata": {},
   "outputs": [],
   "source": [
    "import sdm as sdmlib\n",
    "import matplotlib.pyplot as plt\n",
    "import numpy as np\n",
    "from IPython.display import clear_output\n",
    "%matplotlib inline"
   ]
  },
  {
   "cell_type": "code",
   "execution_count": 2,
   "metadata": {},
   "outputs": [],
   "source": [
    "bits = 1000\n",
    "sample = 1000000\n",
    "scanner_type = sdmlib.SDM_SCANNER_OPENCL"
   ]
  },
  {
   "cell_type": "code",
   "execution_count": 3,
   "metadata": {},
   "outputs": [],
   "source": [
    "address_space = sdmlib.AddressSpace.init_random(bits, sample)\n",
    "counter = sdmlib.Counter.create_file('sdm-tmp-DELETE-IT', bits, sample)\n",
    "sdm = sdmlib.SDM(address_space, counter, 451, scanner_type)"
   ]
  },
  {
   "cell_type": "code",
   "execution_count": 4,
   "metadata": {},
   "outputs": [],
   "source": [
    "def write(n=1000, prefix=''):\n",
    "    for i in xrange(n):\n",
    "        clear_output(wait=True)\n",
    "        print '{}Writing {} random bitstrings: {:4d} ({:.2f}%)'.format(prefix, n, i+1, 100.*(i+1)/n)\n",
    "        b = sdmlib.Bitstring.init_random(bits)\n",
    "        sdm.write(b, b)\n",
    "    return n"
   ]
  },
  {
   "cell_type": "code",
   "execution_count": 5,
   "metadata": {},
   "outputs": [],
   "source": [
    "def calculate_distances(bs, k=6, step=1, prefix=''):\n",
    "    distances = []\n",
    "    x = range(0, bits+1, step)\n",
    "    for i, dist in enumerate(x):\n",
    "        clear_output(wait=True)\n",
    "        print '{}Distance: {:4d} ({:.2f}%)'.format(prefix, dist, 100.*(i+1)/len(x))\n",
    "        c = sdmlib.Bitstring.init_from_bitstring(bs)\n",
    "        c.flip_random_bits(dist)\n",
    "        assert c.distance_to(bs) == dist\n",
    "        v = []\n",
    "        v.append(c.distance_to(bs))\n",
    "        d = c\n",
    "        for j in xrange(k):\n",
    "            d = sdm.read(d)\n",
    "            v.append(d.distance_to(bs))\n",
    "        distances.append([dist, v])\n",
    "    return distances"
   ]
  },
  {
   "cell_type": "code",
   "execution_count": 6,
   "metadata": {},
   "outputs": [],
   "source": [
    "bs_ref = sdmlib.Bitstring.init_random(bits)\n",
    "sdm.write(bs_ref, bs_ref)"
   ]
  },
  {
   "cell_type": "code",
   "execution_count": null,
   "metadata": {},
   "outputs": [
    {
     "name": "stdout",
     "output_type": "stream",
     "text": [
      "[0] Writing 1000 random bitstrings:  245 (24.50%)\n"
     ]
    }
   ],
   "source": [
    "distances = []\n",
    "qty = 1000\n",
    "n = 50\n",
    "step = 1\n",
    "k = 6\n",
    "total = 0\n",
    "for i in xrange(n):\n",
    "    prefix = '[{}] '.format(total)\n",
    "    total += write(qty, prefix=prefix)\n",
    "    v = calculate_distances(bs_ref, k=k, step=step, prefix=prefix)\n",
    "    distances.append((total, v))"
   ]
  },
  {
   "cell_type": "code",
   "execution_count": null,
   "metadata": {},
   "outputs": [],
   "source": [
    "def plot_heatmap(data):\n",
    "    # Make plot with vertical (default) colorbar\n",
    "    maxd = int(data.max())\n",
    "    mind = int(data.min())\n",
    "    avgd = int ((maxd+mind)/2);\n",
    "    fig = plt.figure()\n",
    "    ax = fig.add_subplot(111)\n",
    "    \n",
    "    #use aspect=20 when N=1000\n",
    "    #use aspect=5 when N=256\n",
    "    \n",
    "    from matplotlib.pylab import cm, contourf, contour\n",
    "    \n",
    "    cax = ax.imshow(data, cmap=cm.YlGnBu, aspect='auto', interpolation=None, norm=None, origin='lower')\n",
    "    ax.grid(True, label='Distance')\n",
    "\n",
    "    # Add colorbar, make sure to specify tick locations to match desired ticklabels\n",
    "    cbar = fig.colorbar(cax, ticks=[mind, avgd, maxd]) #had ZERO here before\n",
    "    cbar.ax.set_yticklabels([str(mind), str(avgd), str(maxd)])\n",
    "    cbar.ax.set_ylabel('Distance obtained after X iteractive-readings', fontsize=12)\n",
    "        \n",
    "    #########CONTOUR DELINEATES THE CRITICAL DISTANCE\n",
    "\n",
    "    # We are using automatic selection of contour levels;\n",
    "    # this is usually not such a good idea, because they don't\n",
    "    # occur on nice boundaries, but we do it here for purposes\n",
    "    # of illustration.\n",
    "    CS = ax.contourf(data, 100, levels=[mind,avgd,maxd], alpha=0.1, cmap=cm.YlGnBu, origin='lower')\n",
    "    \n",
    "    # Note that in the following, we explicitly pass in a subset of\n",
    "    # the contour levels used for the filled contours.  Alternatively,\n",
    "    # We could pass in additional levels to provide extra resolution,\n",
    "    # or leave out the levels kwarg to use all of the original levels.\n",
    "    CS2 = ax.contour(CS,  levels=[88], colors='gray', origin='lower', hold='on', linestyles='dashdot')\n",
    "    \n",
    "    plt.title('Critical Distance Behavior', fontsize=20)\n",
    "    plt.xlabel('Original distance', fontsize=12)\n",
    "    plt.ylabel('# items previously stored (000\\'s)', fontsize=12)\n",
    "    # Add the contour line levels to the colorbar\n",
    "    #cbar.add_lines(CS2)\n",
    "    plt.show()"
   ]
  },
  {
   "cell_type": "code",
   "execution_count": null,
   "metadata": {},
   "outputs": [],
   "source": [
    "def get_data(distances, k):\n",
    "    # k = iterative readings\n",
    "    \n",
    "    # [(x, y, z)]\n",
    "    # x = old distance\n",
    "    # y = number of writings\n",
    "    # z = new distance\n",
    "    data = []\n",
    "    for writings, v1 in distances:\n",
    "        v = []\n",
    "        for old, v2 in v1:\n",
    "            new = v2[k]\n",
    "            #data.append([old, writings, new])\n",
    "            v.append(new)\n",
    "        data.append(v)\n",
    "    return np.array(data)"
   ]
  },
  {
   "cell_type": "code",
   "execution_count": null,
   "metadata": {},
   "outputs": [],
   "source": [
    "data = get_data(distances, 0)\n",
    "plot_heatmap(data)\n",
    "#print len(data), len(data[0])"
   ]
  },
  {
   "cell_type": "code",
   "execution_count": null,
   "metadata": {},
   "outputs": [],
   "source": []
  }
 ],
 "metadata": {
  "kernelspec": {
   "display_name": "Python 2",
   "language": "python",
   "name": "python2"
  },
  "language_info": {
   "codemirror_mode": {
    "name": "ipython",
    "version": 2
   },
   "file_extension": ".py",
   "mimetype": "text/x-python",
   "name": "python",
   "nbconvert_exporter": "python",
   "pygments_lexer": "ipython2",
   "version": "2.7.10"
  }
 },
 "nbformat": 4,
 "nbformat_minor": 2
}
