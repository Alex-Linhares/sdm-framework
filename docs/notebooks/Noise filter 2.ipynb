{
 "cells": [
  {
   "cell_type": "markdown",
   "metadata": {},
   "source": [
    "# Noise filter"
   ]
  },
  {
   "cell_type": "code",
   "execution_count": 1,
   "metadata": {},
   "outputs": [],
   "source": [
    "import sdm as sdmlib\n",
    "import matplotlib.pyplot as plt\n",
    "from PIL import Image, ImageDraw, ImageFont\n",
    "import urllib, cStringIO\n",
    "import random\n",
    "from IPython.core.display import display, Image as IPythonImage\n",
    "%matplotlib inline"
   ]
  },
  {
   "cell_type": "code",
   "execution_count": 2,
   "metadata": {},
   "outputs": [],
   "source": [
    "width = 30\n",
    "height = 30\n",
    "noise_flip = True"
   ]
  },
  {
   "cell_type": "code",
   "execution_count": 3,
   "metadata": {},
   "outputs": [],
   "source": [
    "def gen_img(letter='A'):\n",
    "    img = Image.new('RGBA', (30, 30), (255, 255, 255))\n",
    "    font = ImageFont.truetype('Arial.ttf', 30)\n",
    "    draw = ImageDraw.Draw(img)\n",
    "    draw.text((5, 0), letter, (0, 0, 0), font=font)\n",
    "    return img"
   ]
  },
  {
   "cell_type": "code",
   "execution_count": 4,
   "metadata": {},
   "outputs": [],
   "source": [
    "def gen_noise_add(img, p=0.15, flip=False):\n",
    "    img2 = img.copy()\n",
    "    draw = ImageDraw.Draw(img2)\n",
    "    for py in xrange(height):\n",
    "        for px in xrange(width):\n",
    "            if random.random() < p:\n",
    "                if flip:\n",
    "                    pixel = img.getpixel((px, py))\n",
    "                    value = sum([int(x/255+0.5) for x in pixel[:3]])//3\n",
    "                    assert value == 0 or value == 1\n",
    "                    value = (1 - value)*255\n",
    "                    draw.point((px, py), fill=(value, value, value))\n",
    "                else:\n",
    "                    draw.point((px, py), fill=(0, 0, 0))\n",
    "    return img2"
   ]
  },
  {
   "cell_type": "code",
   "execution_count": 5,
   "metadata": {},
   "outputs": [
    {
     "data": {
      "image/png": "[encoded data removed]",
      "text/plain": [
       "<matplotlib.figure.Figure at 0x10a28cdd0>"
      ]
     },
     "metadata": {},
     "output_type": "display_data"
    }
   ],
   "source": [
    "img = gen_img();\n",
    "img2 = gen_noise_add(img, flip=noise_flip)\n",
    "plt.subplot(1, 2, 1)\n",
    "plt.imshow(img)\n",
    "plt.subplot(1, 2, 2)\n",
    "plt.imshow(img2);"
   ]
  },
  {
   "cell_type": "code",
   "execution_count": 6,
   "metadata": {},
   "outputs": [],
   "source": [
    "def to_bitstring(img):\n",
    "    v = []\n",
    "    bs = sdmlib.Bitstring.init_ones(1000)\n",
    "    for py in xrange(height):\n",
    "        for px in xrange(width):\n",
    "            pixel = img.getpixel((px, py))\n",
    "            value = sum([int(x/255+0.5) for x in pixel[:3]])//3\n",
    "            assert value == 0 or value == 1\n",
    "            idx = px+width*py\n",
    "            assert idx >= 0 and idx < 1000, 'Ops {} {} {}'.format(x, y, idx)\n",
    "            bs.set_bit(idx, value)\n",
    "            v.append(value)\n",
    "    v2 = [bs.get_bit(i) for i in xrange(height*width)]\n",
    "    assert v == v2\n",
    "    return bs"
   ]
  },
  {
   "cell_type": "code",
   "execution_count": 7,
   "metadata": {},
   "outputs": [],
   "source": [
    "def to_img(bs):\n",
    "    img = Image.new('RGBA', (30, 30), (255, 255, 255))\n",
    "    draw = ImageDraw.Draw(img)\n",
    "    for py in xrange(height):\n",
    "        for px in xrange(width):\n",
    "            idx = px+width*py\n",
    "            assert idx >= 0 and idx < 1000, 'Ops {} {} {}'.format(x, y, idx)\n",
    "            x = 255*bs.get_bit(idx)\n",
    "            draw.point((px, py), fill=(x, x, x))\n",
    "    return img"
   ]
  },
  {
   "cell_type": "code",
   "execution_count": 8,
   "metadata": {},
   "outputs": [],
   "source": [
    "bits = 1000\n",
    "sample = 1000000\n",
    "scanner_type = sdmlib.SDM_SCANNER_OPENCL"
   ]
  },
  {
   "cell_type": "code",
   "execution_count": 9,
   "metadata": {},
   "outputs": [],
   "source": [
    "address_space = sdmlib.AddressSpace.init_from_b64_file('sdm-letters.as')\n",
    "counter = sdmlib.Counter.load_file('sdm-letters')\n",
    "sdm = sdmlib.SDM(address_space, counter, 451, scanner_type)"
   ]
  },
  {
   "cell_type": "code",
   "execution_count": 32,
   "metadata": {},
   "outputs": [],
   "source": [
    "def read(letter, n=6, p=0.25):\n",
    "    n = 20\n",
    "    cols = 7\n",
    "    rows = n//cols + 1\n",
    "    plt.figure(figsize=(20,10))\n",
    "\n",
    "    img = gen_img(letter=letter);\n",
    "    img2 = gen_noise_add(img, p=p, flip=noise_flip)\n",
    "    plt.subplot(rows, cols, 1)\n",
    "    plt.imshow(img2)\n",
    "\n",
    "    for i in xrange(n):\n",
    "        bs2 = to_bitstring(img2)\n",
    "        bs3 = sdm.read(bs2)\n",
    "        if bs3 == bs2:\n",
    "            break\n",
    "        img3 = to_img(bs3)\n",
    "        plt.subplot(rows, cols, i+2)\n",
    "        plt.imshow(img3)\n",
    "        img2 = img3"
   ]
  },
  {
   "cell_type": "code",
   "execution_count": 35,
   "metadata": {},
   "outputs": [
    {
     "data": {
      "image/png": "[encoded data removed]",
      "text/plain": [
       "<matplotlib.figure.Figure at 0x10a34a590>"
      ]
     },
     "metadata": {},
     "output_type": "display_data"
    }
   ],
   "source": [
    "read('Q', p=0)"
   ]
  },
  {
   "cell_type": "code",
   "execution_count": null,
   "metadata": {},
   "outputs": [],
   "source": []
  }
 ],
 "metadata": {
  "kernelspec": {
   "display_name": "Python 2",
   "language": "python",
   "name": "python2"
  },
  "language_info": {
   "codemirror_mode": {
    "name": "ipython",
    "version": 2
   },
   "file_extension": ".py",
   "mimetype": "text/x-python",
   "name": "python",
   "nbconvert_exporter": "python",
   "pygments_lexer": "ipython2",
   "version": "2.7.10"
  }
 },
 "nbformat": 4,
 "nbformat_minor": 2
}
