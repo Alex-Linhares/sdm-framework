{
 "cells": [
  {
   "cell_type": "code",
   "execution_count": null,
   "metadata": {},
   "outputs": [],
   "source": [
    "from __future__ import print_function\n",
    "import sdm as sdmlib\n",
    "from collections import defaultdict\n",
    "import random\n",
    "import string\n",
    "import time\n",
    "from math import ceil\n",
    "from IPython.display import clear_output\n",
    "import matplotlib.pyplot as plt\n",
    "\n",
    "#%load_ext line_profiler\n",
    "\n",
    "empty = ' '\n",
    "flip_table = string.maketrans('OX', 'XO')"
   ]
  },
  {
   "cell_type": "code",
   "execution_count": null,
   "metadata": {},
   "outputs": [],
   "source": [
    "class Player(object):\n",
    "    def __init__(self, name):\n",
    "        self.name = name\n",
    "        self.stats = defaultdict(int)\n",
    "    \n",
    "    def on_invalid_move(self):\n",
    "        raise Exception('Ops')\n",
    "    \n",
    "    def on_finish(self, winner, seq):\n",
    "        pass\n",
    "    \n",
    "    def next_move(self, step, board):\n",
    "        v = []\n",
    "        for idx, x in enumerate(board):\n",
    "            if x == empty:\n",
    "                v.append(idx)\n",
    "        return random.choice(v)"
   ]
  },
  {
   "cell_type": "code",
   "execution_count": 3,
   "metadata": {},
   "outputs": [],
   "source": [
    "class SmartPlayer(object):\n",
    "    def __init__(self, name):\n",
    "        self.name = name\n",
    "        self.stats = defaultdict(int)\n",
    "    \n",
    "    def on_invalid_move(self):\n",
    "        raise Exception('Ops')\n",
    "    \n",
    "    def on_finish(self, winner, seq):\n",
    "        pass\n",
    "    \n",
    "    def next_move(self, step, board):\n",
    "        v = []\n",
    "        v_block = []\n",
    "        #print('='*20)\n",
    "        #print('board', board)\n",
    "        for idx, x in enumerate(board):\n",
    "            if x == empty:\n",
    "                boardX = board[:idx] + 'X' + board[idx+1:]\n",
    "                boardO = board[:idx] + 'O' + board[idx+1:]\n",
    "                winnerX = check_for_winner(boardX)\n",
    "                winnerO = check_for_winner(boardO)\n",
    "                #print('Name', self.name)\n",
    "                #print_board(boardX)\n",
    "                #print('WinnerX', winnerX)\n",
    "                #print_board(boardO)\n",
    "                #print('WinnerO', winnerO)\n",
    "                #print('')\n",
    "                if self.name == winnerX or self.name == winnerO:\n",
    "                    # Wins the game.\n",
    "                    return idx\n",
    "                elif winnerX is not None or winnerO is not None:\n",
    "                    # Prevents a defeat.\n",
    "                    v_block.append(idx)\n",
    "                v.append(idx)\n",
    "        #print('='*20)\n",
    "        if v_block:\n",
    "            return v_block[0]\n",
    "        return random.choice(v)"
   ]
  },
  {
   "cell_type": "code",
   "execution_count": 4,
   "metadata": {},
   "outputs": [],
   "source": [
    "class HumanPlayer(object):\n",
    "    def __init__(self, name):\n",
    "        self.name = name\n",
    "        self.stats = defaultdict(int)\n",
    "    \n",
    "    def on_invalid_move(self):\n",
    "        raise Exception('Ops')\n",
    "    \n",
    "    def on_finish(self, winner, seq):\n",
    "        pass\n",
    "    \n",
    "    def next_move(self, step, board):\n",
    "        #clear_output(wait=True)\n",
    "        while True:\n",
    "            print_board(board)\n",
    "            text = raw_input('Entre com a linha/coluna: ')\n",
    "            if len(text) != 2:\n",
    "                continue\n",
    "            si = text[0]\n",
    "            sj = text[1]\n",
    "            i = int(si)-1\n",
    "            j = int(sj)-1\n",
    "            idx = 3*i+j\n",
    "            if board[idx] == empty:\n",
    "                break\n",
    "        return idx\n"
   ]
  },
  {
   "cell_type": "code",
   "execution_count": 5,
   "metadata": {},
   "outputs": [],
   "source": [
    "class SDMPlayer(object):\n",
    "    def __init__(self, name, sdm0, sdm1, bs_to_boards, boards_to_bs):\n",
    "        self.name = name\n",
    "\n",
    "        self.bs_to_boards = bs_to_boards\n",
    "        self.boards_to_bs = boards_to_bs\n",
    "        \n",
    "        self.sdm0 = sdm0\n",
    "        self.sdm1 = sdm1\n",
    "        \n",
    "        self.on_finish = self.on_finish1\n",
    "        \n",
    "        self.debug = False\n",
    "        \n",
    "        self.reset_stats()\n",
    "    \n",
    "    def reset_stats(self):\n",
    "        self.stats = defaultdict(int)\n",
    "    \n",
    "    def on_invalid_move(self):\n",
    "        raise Exception('Ops')\n",
    "    \n",
    "    def board_to_bitstring(self, board):\n",
    "        bs = self.boards_to_bs.get(board, None)\n",
    "        if bs is None:\n",
    "            bs = sdmlib.Bitstring.init_random(self.sdm0.bits)\n",
    "            self.bs_to_boards[bs] = board\n",
    "            self.boards_to_bs[board] = bs\n",
    "            self.sdm0.write(bs, bs)\n",
    "        return bs\n",
    "    \n",
    "    def bitstring_to_board(self, bs):\n",
    "        board = self.bs_to_boards.get(bs, None)\n",
    "        return board\n",
    "    \n",
    "    def flip(self, board):\n",
    "        return board.translate(flip_table)\n",
    "    \n",
    "    def penalize(self, board, ignore, weight=2):\n",
    "        debug = False\n",
    "        if debug:\n",
    "            print('board')\n",
    "            print_board(board)\n",
    "            print('ignore')\n",
    "            print_board(ignore)\n",
    "        for idx, x in enumerate(board):\n",
    "            if x == empty:\n",
    "                board2 = board[:idx] + 'X' + board[idx+1:]\n",
    "                if board2 != ignore:\n",
    "                    if debug:\n",
    "                        print('aceito')\n",
    "                        print_board(board2)\n",
    "                    bs1 = self.board_to_bitstring(board)\n",
    "                    bs2 = self.board_to_bitstring(board2)\n",
    "                    self.sdm1.write(bs1, bs2, weight=weight)\n",
    "                else:\n",
    "                    if debug:\n",
    "                        print('Ignorou!')\n",
    "                        print_board(board2)\n",
    "        \n",
    "    \n",
    "    def on_finish1(self, winner, seq):\n",
    "        prev = None\n",
    "        if self.debug:\n",
    "            print('Learning...')\n",
    "            \n",
    "        #if winner is not None:\n",
    "        #    if winner == 'X':\n",
    "        #        self.penalize(self.flip(seq[-3]), self.flip(seq[-2]))\n",
    "        #    else:\n",
    "        #        self.penalize(seq[-3], seq[-2])\n",
    "            \n",
    "        for step, board in enumerate(seq):\n",
    "            if winner == 'O':\n",
    "                # Internally SDM is always the X player.\n",
    "                board = self.flip(board)\n",
    "\n",
    "            if prev is not None:\n",
    "                if self.debug:\n",
    "                    print_board(prev)\n",
    "                    print('')\n",
    "                    print_board(board)\n",
    "                bs1 = self.board_to_bitstring(prev)\n",
    "                bs2 = self.board_to_bitstring(board)\n",
    "                if winner is None:\n",
    "                    if self.debug:\n",
    "                        print('It is a draw, so writing with weight=1...')\n",
    "                    self.sdm1.write(bs1, bs2)\n",
    "                else:\n",
    "                    # weight goes from 2 to 5\n",
    "                    weight = int(3.0*step/(len(seq)-1))+2\n",
    "                    if self.debug:\n",
    "                        print('It is a win, so writing with weight={}...'.format(weight))\n",
    "                    self.sdm1.write(bs1, bs2, weight=weight)\n",
    "                \n",
    "                # Penalty\n",
    "                if step%2 == len(seq)%2:\n",
    "                    if self.debug: \n",
    "                        print('Penalizing the flipping board...')\n",
    "                    self.penalize(self.flip(prev), self.flip(board))\n",
    "\n",
    "            prev = board\n",
    "                \n",
    "    def next_move(self, step, board, debug=False):\n",
    "        x = self.sdm_move(step, board)\n",
    "        if x is not None:\n",
    "            if debug:\n",
    "                print('SDM')\n",
    "            return x\n",
    "        if debug:\n",
    "            print('Random')\n",
    "        return self.random_move(step, board)\n",
    "    \n",
    "    def sdm_move(self, step, board, debug=False):\n",
    "        if self.name == 'O':\n",
    "            # Internally SDM is always the X player.\n",
    "            board = self.flip(board)\n",
    "\n",
    "        bs1 = self.board_to_bitstring(board)\n",
    "        bs2 = self.sdm1.read(bs1)\n",
    "        bs3 = self.sdm0.iter_read(bs2, max_iter=10)\n",
    "        board2 = self.bitstring_to_board(bs3)\n",
    "        if board2 is None:\n",
    "            return None\n",
    "        \n",
    "        if debug:\n",
    "            print('Reading...')\n",
    "            print_board(board)\n",
    "            print('--')\n",
    "            print_board(board2)\n",
    "            print('')\n",
    "        \n",
    "        diff = []\n",
    "        for idx in range(9):\n",
    "            if board[idx] != board2[idx]:\n",
    "                if board[idx] == empty and board2[idx] == 'X':\n",
    "                    diff.append(idx)\n",
    "        if len(diff) == 1:\n",
    "            self.stats['sdm'] += 1\n",
    "            return diff[0]\n",
    "        self.stats['weird'] += 1\n",
    "        return None\n",
    "    \n",
    "    def random_move(self, step, board):\n",
    "        self.stats['random'] += 1\n",
    "        v = []\n",
    "        for idx, x in enumerate(board):\n",
    "            if x == empty:\n",
    "                v.append(idx)\n",
    "        return random.choice(v)"
   ]
  },
  {
   "cell_type": "code",
   "execution_count": 6,
   "metadata": {},
   "outputs": [],
   "source": [
    "def print_board(board):\n",
    "    i = 0\n",
    "    while i < len(board):\n",
    "        print('|' + board[i:i+3] + '|')\n",
    "        i += 3\n",
    "    print('')\n",
    "\n",
    "def check_all_equal(*args):\n",
    "    if len(set(args)) == 1 and args[0] != empty:\n",
    "        return True\n",
    "    return False\n",
    "        \n",
    "def check_for_winner(board):\n",
    "    for i in range(3):\n",
    "        if check_all_equal(board[3*i+0], board[3*i+1], board[3*i+2]):\n",
    "            return board[3*i+0]\n",
    "        \n",
    "        if check_all_equal(board[3*0+i], board[3*1+i], board[3*2+i]):\n",
    "            return board[3*0+i]\n",
    "\n",
    "    if check_all_equal(board[3*0+0], board[3*1+1], board[3*2+2]):\n",
    "        return board[3*0+0]\n",
    "    \n",
    "    if check_all_equal(board[3*0+2], board[3*1+1], board[3*2+0]):\n",
    "        return board[3*0+2]\n",
    "    \n",
    "    return None\n",
    "\n",
    "def play(p1, p2, shuffle=True):\n",
    "    board = ' '*9\n",
    "    end = False\n",
    "    players = [p1, p2]\n",
    "    if shuffle:\n",
    "        random.shuffle(players)\n",
    "    index = 0\n",
    "    step = 0\n",
    "    sequence = [board]\n",
    "    winner = None\n",
    "    while winner is None and step < 9:\n",
    "        cur_player = players[index]\n",
    "        \n",
    "        idx = cur_player.next_move(step, board)\n",
    "        \n",
    "        if board[idx] != empty:\n",
    "            cur_player.on_invalid_move()\n",
    "        \n",
    "        board = board[:idx] + cur_player.name + board[idx+1:]\n",
    "        sequence.append(board)\n",
    "        \n",
    "        winner = check_for_winner(board)\n",
    "        \n",
    "        index = (index+1)%2\n",
    "        step += 1\n",
    "    return winner, sequence"
   ]
  },
  {
   "cell_type": "code",
   "execution_count": 7,
   "metadata": {
    "scrolled": false
   },
   "outputs": [],
   "source": [
    "def run(pA, pB, n, show=False, debug=False, shuffle=True, learning=True, offset=0):\n",
    "    wins = defaultdict(int)\n",
    "    for i in range(n):\n",
    "        winner, seq = play(pA, pB, shuffle=shuffle)\n",
    "\n",
    "        wins[winner] += 1\n",
    "\n",
    "        clear_output(wait=True)\n",
    "        print('Game #{:5d}: {}  {} {}'.format(i+1+offset, list(wins.items()), list(pA.stats.items()), list(pB.stats.items())))\n",
    "\n",
    "        if debug:\n",
    "            for i, board in enumerate(seq):\n",
    "                print('step={}'.format(i))\n",
    "                print_board(board)\n",
    "                \n",
    "        if show:\n",
    "            print('')\n",
    "            print_board(seq[-1])\n",
    "            print('')\n",
    "\n",
    "        if learning:\n",
    "            pA.on_finish(winner, seq)\n",
    "            pB.on_finish(winner, seq)\n",
    "    return wins"
   ]
  },
  {
   "cell_type": "code",
   "execution_count": 8,
   "metadata": {},
   "outputs": [],
   "source": [
    "bits, radius = 1000, 451\n",
    "#bits, radius = 256, 103\n",
    "\n",
    "sample = 1000000\n",
    "scanner_type = sdmlib.SDM_SCANNER_OPENCL\n",
    "\n",
    "address_space = sdmlib.AddressSpace.init_random(bits, sample)\n",
    "\n",
    "counter0 = sdmlib.Counter.init_zero(bits, sample)\n",
    "sdm0 = sdmlib.SDM(address_space, counter0, radius, scanner_type)\n",
    "\n",
    "counter1 = sdmlib.Counter.init_zero(bits, sample)\n",
    "sdm11 = sdmlib.SDM(address_space, counter1, radius, scanner_type)\n",
    "\n",
    "#counter2 = sdmlib.Counter.init_zero(bits, sample)\n",
    "#sdm12 = sdmlib.SDM(address_space, counter2, radius, scanner_type)\n",
    "\n",
    "bs_to_boards = {}\n",
    "boards_to_bs = {}"
   ]
  },
  {
   "cell_type": "code",
   "execution_count": 23,
   "metadata": {},
   "outputs": [],
   "source": [
    "scanner_type = sdmlib.SDM_SCANNER_OPENCL\n",
    "sdm0 = sdmlib.SDM(address_space, counter0, radius, scanner_type)\n",
    "sdm11 = sdmlib.SDM(address_space, counter1, radius, scanner_type)"
   ]
  },
  {
   "cell_type": "code",
   "execution_count": 24,
   "metadata": {},
   "outputs": [],
   "source": [
    "sdmX = SDMPlayer('X', sdm0, sdm11, bs_to_boards, boards_to_bs)\n",
    "#sdmO = SDMPlayer('O', sdm0, sdm12, bs_to_boards, boards_to_bs)\n",
    "rndX = Player('X')\n",
    "rndO = Player('O')\n",
    "humO = HumanPlayer('O')"
   ]
  },
  {
   "cell_type": "code",
   "execution_count": 25,
   "metadata": {},
   "outputs": [],
   "source": [
    "humX = HumanPlayer('X')\n",
    "smtO = SmartPlayer('O')"
   ]
  },
  {
   "cell_type": "code",
   "execution_count": 11,
   "metadata": {},
   "outputs": [],
   "source": [
    "resultsSmart = []\n",
    "resultsRandom = []"
   ]
  },
  {
   "cell_type": "code",
   "execution_count": null,
   "metadata": {},
   "outputs": [],
   "source": [
    "for i in range(10):\n",
    "    %time resultsSmart.append(run(sdmX, smtO, 100, show=True, offset=100*i))"
   ]
  },
  {
   "cell_type": "code",
   "execution_count": null,
   "metadata": {
    "scrolled": false
   },
   "outputs": [
    {
     "name": "stdout",
     "output_type": "stream",
     "text": [
      "Game # 1833: [('X', 15), (None, 4), ('O', 14)]  [('sdm', 4035), ('weird', 55), ('random', 6582)] []\n",
      "\n",
      "|OXO|\n",
      "|OXX|\n",
      "|XOO|\n",
      "\n",
      "\n"
     ]
    }
   ],
   "source": [
    "for i in range(30):\n",
    "    %time resultsRandom.append(run(sdmX, rndO, 100, show=True, offset=100*i))"
   ]
  },
  {
   "cell_type": "code",
   "execution_count": null,
   "metadata": {},
   "outputs": [],
   "source": [
    "#%time resultsSmart.append(run(sdmX, smtO, 200, show=True, learning=False))\n",
    "#%time resultsRandom.append(run(sdmX, rndO, 200, show=True, learning=False))\n",
    "\n",
    "for i in range(10):\n",
    "    %time resultsSmart.append(run(sdmX, smtO, 200, show=True, learning=True))\n",
    "    %time resultsRandom.append(run(sdmX, rndO, 200, show=True, learning=False))"
   ]
  },
  {
   "cell_type": "code",
   "execution_count": null,
   "metadata": {},
   "outputs": [],
   "source": [
    "%time run(sdmX, sdmO, 1000, show=True)"
   ]
  },
  {
   "cell_type": "code",
   "execution_count": null,
   "metadata": {},
   "outputs": [],
   "source": [
    "%time run(sdmX, rndO, 1000, show=True)"
   ]
  },
  {
   "cell_type": "code",
   "execution_count": null,
   "metadata": {},
   "outputs": [],
   "source": [
    "%time run(rndX, smtO, 100, show=True)"
   ]
  },
  {
   "cell_type": "code",
   "execution_count": null,
   "metadata": {},
   "outputs": [],
   "source": [
    "sdmX.debug = False\n",
    "run(sdmX, humO, 1, show=True, debug=True)"
   ]
  },
  {
   "cell_type": "code",
   "execution_count": null,
   "metadata": {},
   "outputs": [],
   "source": [
    "# counter11 = sdmlib.Counter.init_zero(bits, sample)\n",
    "sdm13 = sdmlib.SDM(address_space, counter11, radius, scanner_type)"
   ]
  },
  {
   "cell_type": "code",
   "execution_count": null,
   "metadata": {},
   "outputs": [],
   "source": [
    "playerX = SDMPlayer('O', sdm0, sdm13, bs_to_boards, boards_to_bs)"
   ]
  },
  {
   "cell_type": "code",
   "execution_count": null,
   "metadata": {},
   "outputs": [],
   "source": [
    "%time run(sdmX, playerX, 1000, show=True)"
   ]
  },
  {
   "cell_type": "code",
   "execution_count": null,
   "metadata": {},
   "outputs": [],
   "source": [
    "%time run(humX, smtO, 1, show=True, debug=True)"
   ]
  },
  {
   "cell_type": "code",
   "execution_count": null,
   "metadata": {},
   "outputs": [],
   "source": [
    "sdmX.next_move(0, 'O X O    ', debug=True)"
   ]
  },
  {
   "cell_type": "code",
   "execution_count": null,
   "metadata": {},
   "outputs": [],
   "source": [
    "sdmX.penalize('O X O    ', 'O X OX   ', weight=1000)"
   ]
  },
  {
   "cell_type": "code",
   "execution_count": null,
   "metadata": {},
   "outputs": [],
   "source": [
    "len(resultsSmart), len(resultsRandom)"
   ]
  },
  {
   "cell_type": "code",
   "execution_count": 27,
   "metadata": {},
   "outputs": [
    {
     "data": {
      "image/png": "[encoded data removed]",
      "text/plain": [
       "<matplotlib.figure.Figure at 0x118208a50>"
      ]
     },
     "metadata": {},
     "output_type": "display_data"
    }
   ],
   "source": [
    "def draw(results):\n",
    "    import numpy as np\n",
    "\n",
    "    pos = np.arange(len(results))\n",
    "    width = 0.35\n",
    "\n",
    "    plt.figure(figsize=(8, 6), dpi=100)\n",
    "    winX = [100.0*x['X']/(x['X'] + x['O'] + x[None]) for x in results]\n",
    "    draw = [100.0*x[None]/(x['X'] + x['O'] + x[None]) for x in results]\n",
    "    winO = [100.0*x['O']/(x['X'] + x['O'] + x[None]) for x in results]\n",
    "    plt.bar(pos, winX, width, color='r')\n",
    "    plt.bar(pos, draw, width, bottom=winX, color='b')\n",
    "    #plt.bar(pos, winO, width)\n",
    "    #plt.bar(pos+width, [100.0*x['X']/(x['X'] + x['O'] + x[None]) for x in resultsRandom], width, color='y')\n",
    "\n",
    "    plt.ylabel('% of wins')\n",
    "    plt.xlabel('Number of games (hundreds)');\n",
    "\n",
    "draw(resultsRandom)"
   ]
  },
  {
   "cell_type": "code",
   "execution_count": 19,
   "metadata": {},
   "outputs": [
    {
     "data": {
      "text/plain": [
       "[42, 51, 55, 59, 57, 58, 46, 60, 60, 56]"
      ]
     },
     "execution_count": 19,
     "metadata": {},
     "output_type": "execute_result"
    }
   ],
   "source": [
    "resultsRandom = resultsSmart\n",
    "[x['X'] for x in resultsRandom]"
   ]
  },
  {
   "cell_type": "code",
   "execution_count": null,
   "metadata": {},
   "outputs": [],
   "source": [
    "x = resultsSmart[0]\n",
    "x.get(u'X')"
   ]
  },
  {
   "cell_type": "code",
   "execution_count": null,
   "metadata": {},
   "outputs": [],
   "source": []
  }
 ],
 "metadata": {
  "kernelspec": {
   "display_name": "Python 2",
   "language": "python",
   "name": "python2"
  },
  "language_info": {
   "codemirror_mode": {
    "name": "ipython",
    "version": 2
   },
   "file_extension": ".py",
   "mimetype": "text/x-python",
   "name": "python",
   "nbconvert_exporter": "python",
   "pygments_lexer": "ipython2",
   "version": "2.7.10"
  }
 },
 "nbformat": 4,
 "nbformat_minor": 2
}
